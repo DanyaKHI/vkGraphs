import pandas as pd
sequence_matrix = pd.read_csv("FINAL_SEQUENCES_MATRIX.tsv", delimiter='\t')

import ast
G = {}
n = 0
prev = -1
for i in range(sequence_matrix.shape[0]):
    if i % 10000 == 0:
        print(i)
    k = ast.literal_eval(sequence_matrix.iloc[i][0])
    for h in k:
        if h not in G.keys():
            G[h] = {}
        if prev != -1:
            G[prev][h] = G[prev].get(h, 0) + 1
        prev = h
    prev = -1
    
import pandas as pd
sequence_traintest = pd.read_csv("FINAL_ALL_SEQUENCES_TRAINTEST.tsv", delimiter='\t')

prev = -1

for i in range(sequence_traintest.shape[0]):
    k = ast.literal_eval(sequence_traintest.iloc[i]["SEQUENCE"])

    for h in k:
        if h not in G.keys():
            G[h] = {}
        if prev != -1:
            G[prev][h] = G[prev].get(h, 0) + 1
        prev = h
    prev = -1
        
import ast
target = pd.read_csv("FINAL_TARGETS_DATES_TRAINTEST.tsv", delimiter = '\t')
count = {}
VisitedFill = {}
fill = target[target["TARGET"] == '1']
fill_sequence = sequence_traintest[sequence_traintest.CLIENT_ID.isin(fill.CLIENT_ID)]
for i in range(fill_sequence.shape[0]):
    k = ast.literal_eval(sequence_traintest.iloc[i]["SEQUENCE"])
    for h in k:
        VisitedFill[h] = VisitedFill.get(h, 0) + 1
        count[h] = count.get(h, 0) + 1
        
fill = target[target["TARGET"] == '0']
fill_sequence = sequence_traintest[sequence_traintest.CLIENT_ID.isin(fill.CLIENT_ID)]
for i in range(fill_sequence.shape[0]):
    k = ast.literal_eval(sequence_traintest.iloc[i]["SEQUENCE"])
    for h in k:
        count[h] = count.get(h, 0) + 1
        
for h in VisitedFill.keys():
    VisitedFill[h] /= count[h]
    
import numpy as np
M_edges = {}
for i in G.keys():
    for j in G[i].keys():
        M_edges[j] = M_edges.get(j, 0) + G[i][j] * VisitedFill.get(i, 0)

for i in G.keys():
    M_edges[i] = (4*np.log(M_edges.get(i, 0)/1000 + 1))
    VisitedFill[i] = VisitedFill.get(i, 0) * M_edges.get(i, 0)



graph_feature = []
for i in range(sequence_traintest.shape[0]):
    k = ast.literal_eval(sequence_traintest.iloc[i]["SEQUENCE"])
    _sum = 0
    if len(k) == 0:
        graph_feature.append(0)
        continue
    for h in k:
        _sum += VisitedFill.get(h, 0)
    _sum /= len(k)
    graph_feature.append(_sum)
sequence_traintest['graph_dependence'] = graph_feature
v = sequence_traintest[['CLIENT_ID', 'graph_dependence']]
x = target.merge(v, left_on='CLIENT_ID', right_on='CLIENT_ID', how='left')
    
y = x[['CLIENT_ID', 'graph_dependence']]
y = y.fillna(0)
y.to_csv("GRAPH_DEPENDENCE.csv", index=False)

    


        


